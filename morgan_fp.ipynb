{
  "nbformat": 4,
  "nbformat_minor": 0,
  "metadata": {
    "colab": {
      "provenance": [],
      "include_colab_link": true
    },
    "kernelspec": {
      "name": "python3",
      "display_name": "Python 3"
    },
    "language_info": {
      "name": "python"
    }
  },
  "cells": [
    {
      "cell_type": "markdown",
      "metadata": {
        "id": "view-in-github",
        "colab_type": "text"
      },
      "source": [
        "<a href=\"https://colab.research.google.com/github/deepsharma26/SIRT1_Main/blob/Descriptor_genration/morgan_fp.ipynb\" target=\"_parent\"><img src=\"https://colab.research.google.com/assets/colab-badge.svg\" alt=\"Open In Colab\"/></a>"
      ]
    },
    {
      "cell_type": "code",
      "execution_count": 1,
      "metadata": {
        "colab": {
          "base_uri": "https://localhost:8080/"
        },
        "id": "Qiuj0rJfLLii",
        "outputId": "99118de1-3029-4cfc-a018-8595c4a139da"
      },
      "outputs": [
        {
          "output_type": "stream",
          "name": "stdout",
          "text": [
            "Collecting rdkit-pypi\n",
            "  Downloading rdkit_pypi-2022.9.5-cp311-cp311-manylinux_2_17_x86_64.manylinux2014_x86_64.whl.metadata (3.9 kB)\n",
            "Requirement already satisfied: numpy in /usr/local/lib/python3.11/dist-packages (from rdkit-pypi) (1.26.4)\n",
            "Requirement already satisfied: Pillow in /usr/local/lib/python3.11/dist-packages (from rdkit-pypi) (11.1.0)\n",
            "Downloading rdkit_pypi-2022.9.5-cp311-cp311-manylinux_2_17_x86_64.manylinux2014_x86_64.whl (29.4 MB)\n",
            "\u001b[2K   \u001b[90m━━━━━━━━━━━━━━━━━━━━━━━━━━━━━━━━━━━━━━━━\u001b[0m \u001b[32m29.4/29.4 MB\u001b[0m \u001b[31m26.4 MB/s\u001b[0m eta \u001b[36m0:00:00\u001b[0m\n",
            "\u001b[?25hInstalling collected packages: rdkit-pypi\n",
            "Successfully installed rdkit-pypi-2022.9.5\n"
          ]
        }
      ],
      "source": [
        "import pandas as pd\n",
        "!pip install rdkit-pypi\n",
        "import numpy as np\n",
        "from rdkit import Chem\n",
        "from rdkit.Chem import AllChem"
      ]
    },
    {
      "cell_type": "code",
      "source": [
        "def calculate_morgan_fingerprint(smiles, radius=2, n_bits=2048):\n",
        "    \"\"\"\n",
        "    Calculate the Morgan fingerprint for a given molecule.\n",
        "\n",
        "    Parameters:\n",
        "    - smiles (str): The SMILES string of the molecule.\n",
        "    - radius (int): Radius of the Morgan fingerprint.\n",
        "    - n_bits (int): Number of bits for the fingerprint.\n",
        "\n",
        "    Returns:\n",
        "    - fingerprint (list): The Morgan fingerprint as a bit vector.\n",
        "    \"\"\"\n",
        "    try:\n",
        "\n",
        "        mol = Chem.MolFromSmiles(smiles)\n",
        "        if mol is None:\n",
        "            return None\n",
        "\n",
        "\n",
        "        fp = AllChem.GetMorganFingerprintAsBitVect(mol, radius, nBits=n_bits)\n",
        "\n",
        "\n",
        "        return list(fp)\n",
        "    except Exception as e:\n",
        "        print(f\"Error processing SMILES {smiles}: {e}\")\n",
        "        return None\n",
        "\n",
        "def process_csv(input_csv, output_csv, smiles_column='canonical_smiles', radius=2, n_bits=2048):\n",
        "    \"\"\"\n",
        "    Process a CSV file to calculate Morgan fingerprints for each SMILES.\n",
        "\n",
        "    Parameters:\n",
        "    - input_csv (str): Path to the input CSV file containing SMILES strings.\n",
        "    - output_csv (str): Path to the output CSV file to save fingerprints.\n",
        "    - smiles_column (str): Column name in the CSV that contains SMILES strings.\n",
        "    - radius (int): Radius of the Morgan fingerprint.\n",
        "    - n_bits (int): Number of bits for the fingerprint.\n",
        "    \"\"\"\n",
        "\n",
        "    df = pd.read_csv('/content/SIRT1_04_bioactivity_data_3class_pIC50.csv')\n",
        "\n",
        "    if smiles_column not in df.columns:\n",
        "        print(f\"Column '{smiles_column}' not found in the input CSV.\")\n",
        "        return\n",
        "\n",
        "\n",
        "    fingerprints = df[smiles_column].apply(lambda x: calculate_morgan_fingerprint(x, radius, n_bits))\n",
        "\n",
        "\n",
        "    fingerprint_df = pd.DataFrame(fingerprints.tolist(), columns=[f'FP_{i}' for i in range(n_bits)])\n",
        "\n",
        "\n",
        "    result_df = pd.concat([df, fingerprint_df], axis=1)\n",
        "\n",
        "\n",
        "    result_df.to_csv(output_csv, index=False)\n",
        "    print(f\"Fingerprints saved to {output_csv}\")\n",
        "\n",
        "\n",
        "if __name__ == \"__main__\":\n",
        "    input_csv = \"/content/SIRT1_05_bioactivity_data_2class_pIC50.csv\"\n",
        "    output_csv = \"molecules_with_morganfingerprints.csv\"\n",
        "    smiles_column = \"canonical_smiles\"\n",
        "    process_csv(input_csv, output_csv, smiles_column)"
      ],
      "metadata": {
        "colab": {
          "base_uri": "https://localhost:8080/"
        },
        "id": "HZ4ty2W8LYIi",
        "outputId": "0f8ab1b0-f92b-4cf1-c665-bbdc7a612290"
      },
      "execution_count": 3,
      "outputs": [
        {
          "output_type": "stream",
          "name": "stdout",
          "text": [
            "Fingerprints saved to molecules_with_morganfingerprints.csv\n"
          ]
        }
      ]
    },
    {
      "cell_type": "code",
      "source": [],
      "metadata": {
        "id": "spnRrUyQNRvD"
      },
      "execution_count": null,
      "outputs": []
    }
  ]
}