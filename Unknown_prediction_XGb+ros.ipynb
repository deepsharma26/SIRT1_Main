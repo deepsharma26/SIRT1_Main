{
  "nbformat": 4,
  "nbformat_minor": 0,
  "metadata": {
    "colab": {
      "provenance": [],
      "include_colab_link": true
    },
    "kernelspec": {
      "name": "python3",
      "display_name": "Python 3"
    },
    "language_info": {
      "name": "python"
    }
  },
  "cells": [
    {
      "cell_type": "markdown",
      "metadata": {
        "id": "view-in-github",
        "colab_type": "text"
      },
      "source": [
        "<a href=\"https://colab.research.google.com/github/deepsharma26/SIRT1_Main/blob/Unknown_dataset_predictions/Unknown_prediction_XGb%2Bros.ipynb\" target=\"_parent\"><img src=\"https://colab.research.google.com/assets/colab-badge.svg\" alt=\"Open In Colab\"/></a>"
      ]
    },
    {
      "cell_type": "markdown",
      "source": [
        "#Prediction of unknown dataset (NPASS-96235 compounds)"
      ],
      "metadata": {
        "id": "qYeiub9-wSNO"
      }
    },
    {
      "cell_type": "markdown",
      "source": [
        "Rebuilding the previous model (XGB + ros) for loading into pickle module"
      ],
      "metadata": {
        "id": "IloYtTKkwaLF"
      }
    },
    {
      "cell_type": "code",
      "execution_count": 1,
      "metadata": {
        "id": "tAaEc7fCgP5w"
      },
      "outputs": [],
      "source": [
        "from sklearn.model_selection import train_test_split\n",
        "import matplotlib.pyplot as plt\n",
        "import seaborn as sns\n",
        "import numpy as np\n",
        "import random\n",
        "import pandas as pd\n",
        "from sklearn.preprocessing import StandardScaler\n",
        "from xgboost import XGBClassifier\n",
        "from sklearn.metrics import (\n",
        "    accuracy_score, balanced_accuracy_score, f1_score, cohen_kappa_score,\n",
        "    mean_absolute_error, classification_report, confusion_matrix,\n",
        "    roc_auc_score, roc_curve\n",
        ")\n",
        "from imblearn.over_sampling import SMOTE\n",
        "import matplotlib.pyplot as plt\n",
        "import seaborn as sns\n",
        "import numpy as np\n",
        "from collections import Counter\n",
        "from imblearn.over_sampling import SMOTE, RandomOverSampler"
      ]
    },
    {
      "cell_type": "code",
      "source": [
        "df = pd.read_csv(\"/content/MACCS2_Trainset_top20.csv\")\n",
        "X = df.drop(\"BioactivityClass\", axis=1)\n",
        "y = df[\"BioactivityClass\"]\n",
        "\n",
        "print(\"Original dataset shape:\", Counter(y))\n",
        "\n",
        "\n",
        "ros = RandomOverSampler(random_state=42)\n",
        "X_ros, y_ros = ros.fit_resample(X, y)\n",
        "\n",
        "print(\"Resampled dataset shape (RandomOverSampler):\", Counter(y_ros))\n",
        "\n",
        "\n",
        "X_train, X_test, y_train, y_test = train_test_split(\n",
        "    X_ros, y_ros, test_size=0.3, random_state=42, stratify=y_ros\n",
        ")\n",
        "\n",
        "\n",
        "scaler = StandardScaler()\n",
        "X_train_scaled = scaler.fit_transform(X_train)\n",
        "X_test_scaled = scaler.transform(X_test)\n",
        "\n",
        "\n",
        "xgb_model = XGBClassifier(\n",
        "    random_state=42,\n",
        "    use_label_encoder=False,\n",
        "    eval_metric='logloss'\n",
        ")\n",
        "xgb_model.fit(X_train_scaled, y_train)\n",
        "\n",
        "\n",
        "y_pred = xgb_model.predict(X_test_scaled)\n",
        "y_proba = xgb_model.predict_proba(X_test_scaled)[:, 1] if len(xgb_model.classes_) == 2 else None\n",
        "\n",
        "\n",
        "print(\"\\nAccuracy:\", accuracy_score(y_test, y_pred))\n",
        "print(\"Balanced Accuracy:\", balanced_accuracy_score(y_test, y_pred))\n",
        "print(\"F1 Score:\", f1_score(y_test, y_pred))\n",
        "print(\"Cohen's Kappa:\", cohen_kappa_score(y_test, y_pred))\n",
        "print(\"Mean Absolute Error:\", mean_absolute_error(y_test, y_pred))\n",
        "print(\"\\nClassification Report:\\n\", classification_report(y_test, y_pred))\n",
        "\n",
        "\n",
        "cm = confusion_matrix(y_test, y_pred)\n",
        "print(\"\\nConfusion Matrix:\\n\", cm)\n",
        "\n",
        "plt.figure(figsize=(5, 4))\n",
        "sns.heatmap(cm, annot=True, fmt=\"d\", cmap=\"Blues\", cbar=False)\n",
        "plt.xlabel(\"Predicted\")\n",
        "plt.ylabel(\"Actual\")\n",
        "plt.title(\"Confusion Matrix - XGBoost (RandomOverSampler)\")\n",
        "plt.show()\n",
        "\n",
        "\n",
        "if y_proba is not None:\n",
        "    roc_auc = roc_auc_score(y_test, y_proba)\n",
        "    print(\"ROC AUC:\", roc_auc)\n",
        "\n",
        "    fpr, tpr, _ = roc_curve(y_test, y_proba)\n",
        "    plt.figure(figsize=(6, 5))\n",
        "    plt.plot(fpr, tpr, label=f'AUC = {roc_auc:.2f}', color='darkorange', lw=2)\n",
        "    plt.plot([0, 1], [0, 1], color='navy', linestyle='--', lw=2)\n",
        "    plt.xlabel(\"False Positive Rate\")\n",
        "    plt.ylabel(\"True Positive Rate\")\n",
        "    plt.title(\"ROC Curve - XGBoost (RandomOverSampler)\")\n",
        "    plt.legend(loc=\"lower right\")\n",
        "    plt.show()"
      ],
      "metadata": {
        "colab": {
          "base_uri": "https://localhost:8080/",
          "height": 1000
        },
        "id": "GLHTngbooGd3",
        "outputId": "9c3c3d80-23a5-4f0e-a09f-0958b21bd5ab"
      },
      "execution_count": 2,
      "outputs": [
        {
          "output_type": "stream",
          "name": "stdout",
          "text": [
            "Original dataset shape: Counter({0: 792, 1: 141})\n",
            "Resampled dataset shape (RandomOverSampler): Counter({1: 792, 0: 792})\n"
          ]
        },
        {
          "output_type": "stream",
          "name": "stderr",
          "text": [
            "/usr/local/lib/python3.12/dist-packages/xgboost/training.py:183: UserWarning: [17:52:31] WARNING: /workspace/src/learner.cc:738: \n",
            "Parameters: { \"use_label_encoder\" } are not used.\n",
            "\n",
            "  bst.update(dtrain, iteration=i, fobj=obj)\n"
          ]
        },
        {
          "output_type": "stream",
          "name": "stdout",
          "text": [
            "\n",
            "Accuracy: 0.8928571428571429\n",
            "Balanced Accuracy: 0.8928571428571429\n",
            "F1 Score: 0.899009900990099\n",
            "Cohen's Kappa: 0.7857142857142857\n",
            "Mean Absolute Error: 0.10714285714285714\n",
            "\n",
            "Classification Report:\n",
            "               precision    recall  f1-score   support\n",
            "\n",
            "           0       0.95      0.83      0.89       238\n",
            "           1       0.85      0.95      0.90       238\n",
            "\n",
            "    accuracy                           0.89       476\n",
            "   macro avg       0.90      0.89      0.89       476\n",
            "weighted avg       0.90      0.89      0.89       476\n",
            "\n",
            "\n",
            "Confusion Matrix:\n",
            " [[198  40]\n",
            " [ 11 227]]\n"
          ]
        },
        {
          "output_type": "display_data",
          "data": {
            "text/plain": [
              "<Figure size 500x400 with 1 Axes>"
            ],
            "image/png": "[encoded data removed]"
          },
          "metadata": {}
        },
        {
          "output_type": "stream",
          "name": "stdout",
          "text": [
            "ROC AUC: 0.9440894004660688\n"
          ]
        },
        {
          "output_type": "display_data",
          "data": {
            "text/plain": [
              "<Figure size 600x500 with 1 Axes>"
            ],
            "image/png": "[encoded data removed]"
          },
          "metadata": {}
        }
      ]
    },
    {
      "cell_type": "code",
      "source": [
        "from sklearn.model_selection import cross_val_score\n",
        "from sklearn.model_selection import StratifiedKFold\n",
        "\n",
        "skf = StratifiedKFold(n_splits=10, shuffle=True, random_state=42)\n",
        "cv_scores = cross_val_score(xgb_model, X_ros, y_ros, cv=skf, scoring='accuracy')\n",
        "\n",
        "print(f\"Stratified K-Fold Accuracy: {cv_scores}\")\n",
        "print(f\"Mean Accuracy: {np.mean(cv_scores)} ± {np.std(cv_scores)}\")"
      ],
      "metadata": {
        "colab": {
          "base_uri": "https://localhost:8080/"
        },
        "id": "aYHiHzVLoX1B",
        "outputId": "b7c2c46a-fb48-49dd-f248-db1051691c72"
      },
      "execution_count": 3,
      "outputs": [
        {
          "output_type": "stream",
          "name": "stderr",
          "text": [
            "/usr/local/lib/python3.12/dist-packages/xgboost/training.py:183: UserWarning: [17:53:02] WARNING: /workspace/src/learner.cc:738: \n",
            "Parameters: { \"use_label_encoder\" } are not used.\n",
            "\n",
            "  bst.update(dtrain, iteration=i, fobj=obj)\n",
            "/usr/local/lib/python3.12/dist-packages/xgboost/training.py:183: UserWarning: [17:53:03] WARNING: /workspace/src/learner.cc:738: \n",
            "Parameters: { \"use_label_encoder\" } are not used.\n",
            "\n",
            "  bst.update(dtrain, iteration=i, fobj=obj)\n",
            "/usr/local/lib/python3.12/dist-packages/xgboost/training.py:183: UserWarning: [17:53:03] WARNING: /workspace/src/learner.cc:738: \n",
            "Parameters: { \"use_label_encoder\" } are not used.\n",
            "\n",
            "  bst.update(dtrain, iteration=i, fobj=obj)\n",
            "/usr/local/lib/python3.12/dist-packages/xgboost/training.py:183: UserWarning: [17:53:04] WARNING: /workspace/src/learner.cc:738: \n",
            "Parameters: { \"use_label_encoder\" } are not used.\n",
            "\n",
            "  bst.update(dtrain, iteration=i, fobj=obj)\n",
            "/usr/local/lib/python3.12/dist-packages/xgboost/training.py:183: UserWarning: [17:53:04] WARNING: /workspace/src/learner.cc:738: \n",
            "Parameters: { \"use_label_encoder\" } are not used.\n",
            "\n",
            "  bst.update(dtrain, iteration=i, fobj=obj)\n",
            "/usr/local/lib/python3.12/dist-packages/xgboost/training.py:183: UserWarning: [17:53:04] WARNING: /workspace/src/learner.cc:738: \n",
            "Parameters: { \"use_label_encoder\" } are not used.\n",
            "\n",
            "  bst.update(dtrain, iteration=i, fobj=obj)\n",
            "/usr/local/lib/python3.12/dist-packages/xgboost/training.py:183: UserWarning: [17:53:05] WARNING: /workspace/src/learner.cc:738: \n",
            "Parameters: { \"use_label_encoder\" } are not used.\n",
            "\n",
            "  bst.update(dtrain, iteration=i, fobj=obj)\n",
            "/usr/local/lib/python3.12/dist-packages/xgboost/training.py:183: UserWarning: [17:53:06] WARNING: /workspace/src/learner.cc:738: \n",
            "Parameters: { \"use_label_encoder\" } are not used.\n",
            "\n",
            "  bst.update(dtrain, iteration=i, fobj=obj)\n",
            "/usr/local/lib/python3.12/dist-packages/xgboost/training.py:183: UserWarning: [17:53:08] WARNING: /workspace/src/learner.cc:738: \n",
            "Parameters: { \"use_label_encoder\" } are not used.\n",
            "\n",
            "  bst.update(dtrain, iteration=i, fobj=obj)\n"
          ]
        },
        {
          "output_type": "stream",
          "name": "stdout",
          "text": [
            "Stratified K-Fold Accuracy: [0.87421384 0.8490566  0.90566038 0.89937107 0.92405063 0.90506329\n",
            " 0.89240506 0.91139241 0.90506329 0.89873418]\n",
            "Mean Accuracy: 0.8965010747551945 ± 0.019972344722671415\n"
          ]
        },
        {
          "output_type": "stream",
          "name": "stderr",
          "text": [
            "/usr/local/lib/python3.12/dist-packages/xgboost/training.py:183: UserWarning: [17:53:08] WARNING: /workspace/src/learner.cc:738: \n",
            "Parameters: { \"use_label_encoder\" } are not used.\n",
            "\n",
            "  bst.update(dtrain, iteration=i, fobj=obj)\n"
          ]
        }
      ]
    },
    {
      "cell_type": "markdown",
      "source": [
        "Loading the build model and screening unknown dataset"
      ],
      "metadata": {
        "id": "qXzeNJxewxg1"
      }
    },
    {
      "cell_type": "code",
      "source": [
        "import pickle\n",
        "\n",
        "# Save model\n",
        "with open(\"ros_model.pkl\", \"wb\") as model_file:\n",
        "    pickle.dump(xgb_model, model_file)\n",
        "\n",
        "# Load model\n",
        "with open(\"ros_model.pkl\", \"rb\") as model_file:\n",
        "    loaded_model = pickle.load(model_file)\n",
        "\n",
        "# Test loaded model\n",
        "y_pred_loaded = loaded_model.predict(X_test_scaled)\n",
        "print(f\"Loaded Model Accuracy: {accuracy_score(y_test, y_pred_loaded)}\")"
      ],
      "metadata": {
        "colab": {
          "base_uri": "https://localhost:8080/"
        },
        "id": "Q8KL0pBQolsz",
        "outputId": "af953cd0-20ec-4254-fad5-be73c244965b"
      },
      "execution_count": 4,
      "outputs": [
        {
          "output_type": "stream",
          "name": "stdout",
          "text": [
            "Loaded Model Accuracy: 0.8928571428571429\n"
          ]
        }
      ]
    },
    {
      "cell_type": "code",
      "source": [
        "import pandas as pd\n",
        "\n",
        "# Load unknown data\n",
        "unknown_df = pd.read_csv(\"/content/MACCS_with_SMILES_merged_96235_top20_csv.csv\")\n"
      ],
      "metadata": {
        "id": "GImMHui1ov47"
      },
      "execution_count": 5,
      "outputs": []
    },
    {
      "cell_type": "code",
      "source": [
        "# Get the feature names used during training\n",
        "training_features = X.columns\n",
        "\n",
        "# Select only the necessary columns from unknown_df, and reorder them\n",
        "unknown_df = unknown_df.reindex(columns=training_features)"
      ],
      "metadata": {
        "id": "OXiadI9do0Er"
      },
      "execution_count": 6,
      "outputs": []
    },
    {
      "cell_type": "code",
      "source": [
        "# Fill any potential NaN values with 0 (or another appropriate imputation strategy)\n",
        "unknown_df = unknown_df.fillna(0)\n",
        "\n",
        "# Scale the unknown data using the same scaler fitted on the training data\n",
        "unknown_df_scaled = scaler.transform(unknown_df)\n",
        "\n",
        "# Predict class labels\n",
        "predictions = loaded_model.predict(unknown_df_scaled)\n",
        "\n",
        "# Predict probabilities (if needed)\n",
        "probabilities = loaded_model.predict_proba(unknown_df_scaled)\n",
        "\n",
        "original_unknown_df = pd.read_csv(\"/content/MACCS_with_SMILES_merged_96235_top20_csv.csv\")\n",
        "SMILES = original_unknown_df[\"SMILES\"]\n",
        "\n",
        "# Convert predictions to a DataFrame\n",
        "predictions_df = pd.DataFrame({\n",
        "    \"SMILES\": SMILES,\n",
        "    \"Predicted_Class\": predictions,\n",
        "    \"Probability_Class_0\": probabilities[:, 0],  # Probability of class 0\n",
        "    \"Probability_Class_1\": probabilities[:, 1]   # Probability of class 1\n",
        "})\n",
        "\n",
        "# Save predictions\n",
        "predictions_df.to_csv(\"Unknown_predictions_XGB+ros.csv\", index=False)\n",
        "print(\"Predictions saved to Unknown_predictions_XGB+ros.csv\")"
      ],
      "metadata": {
        "colab": {
          "base_uri": "https://localhost:8080/"
        },
        "id": "UOzz9fUEo23u",
        "outputId": "70e3f9cf-d8e0-471e-cdf8-be1a025d20db"
      },
      "execution_count": 7,
      "outputs": [
        {
          "output_type": "stream",
          "name": "stdout",
          "text": [
            "Predictions saved to Unknown_predictions_XGB+ros.csv\n"
          ]
        }
      ]
    }
  ]
}