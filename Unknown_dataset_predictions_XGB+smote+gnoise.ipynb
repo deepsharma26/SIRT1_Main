{
  "nbformat": 4,
  "nbformat_minor": 0,
  "metadata": {
    "colab": {
      "provenance": [],
      "include_colab_link": true
    },
    "kernelspec": {
      "name": "python3",
      "display_name": "Python 3"
    },
    "language_info": {
      "name": "python"
    }
  },
  "cells": [
    {
      "cell_type": "markdown",
      "metadata": {
        "id": "view-in-github",
        "colab_type": "text"
      },
      "source": [
        "<a href=\"https://colab.research.google.com/github/deepsharma26/SIRT1_Main/blob/Unknown_dataset_predictions/Unknown_dataset_predictions_XGB%2Bsmote%2Bgnoise.ipynb\" target=\"_parent\"><img src=\"https://colab.research.google.com/assets/colab-badge.svg\" alt=\"Open In Colab\"/></a>"
      ]
    },
    {
      "cell_type": "markdown",
      "source": [
        "#Prediction of unknown dataset (NPASS-96235 compounds)"
      ],
      "metadata": {
        "id": "S6jlBak1uqbJ"
      }
    },
    {
      "cell_type": "markdown",
      "source": [
        "Rebuilding the previous model (XGB + smote + gnoise) for loading into pickle module"
      ],
      "metadata": {
        "id": "jCF4iR8Ouv9t"
      }
    },
    {
      "cell_type": "code",
      "execution_count": 1,
      "metadata": {
        "colab": {
          "base_uri": "https://localhost:8080/",
          "height": 1000
        },
        "id": "SAgEDBU3TTJK",
        "outputId": "499ef929-9b0b-4e32-b139-8ec56a1a2496"
      },
      "outputs": [
        {
          "output_type": "stream",
          "name": "stdout",
          "text": [
            "Requirement already satisfied: imbalanced-learn in /usr/local/lib/python3.12/dist-packages (0.14.0)\n",
            "Requirement already satisfied: scikit-learn in /usr/local/lib/python3.12/dist-packages (1.6.1)\n",
            "Requirement already satisfied: numpy in /usr/local/lib/python3.12/dist-packages (2.0.2)\n",
            "Requirement already satisfied: pandas in /usr/local/lib/python3.12/dist-packages (2.2.2)\n",
            "Requirement already satisfied: matplotlib in /usr/local/lib/python3.12/dist-packages (3.10.0)\n",
            "Requirement already satisfied: seaborn in /usr/local/lib/python3.12/dist-packages (0.13.2)\n",
            "Requirement already satisfied: xgboost in /usr/local/lib/python3.12/dist-packages (3.0.4)\n",
            "Requirement already satisfied: scipy<2,>=1.11.4 in /usr/local/lib/python3.12/dist-packages (from imbalanced-learn) (1.16.1)\n",
            "Requirement already satisfied: joblib<2,>=1.2.0 in /usr/local/lib/python3.12/dist-packages (from imbalanced-learn) (1.5.2)\n",
            "Requirement already satisfied: threadpoolctl<4,>=2.0.0 in /usr/local/lib/python3.12/dist-packages (from imbalanced-learn) (3.6.0)\n",
            "Requirement already satisfied: python-dateutil>=2.8.2 in /usr/local/lib/python3.12/dist-packages (from pandas) (2.9.0.post0)\n",
            "Requirement already satisfied: pytz>=2020.1 in /usr/local/lib/python3.12/dist-packages (from pandas) (2025.2)\n",
            "Requirement already satisfied: tzdata>=2022.7 in /usr/local/lib/python3.12/dist-packages (from pandas) (2025.2)\n",
            "Requirement already satisfied: contourpy>=1.0.1 in /usr/local/lib/python3.12/dist-packages (from matplotlib) (1.3.3)\n",
            "Requirement already satisfied: cycler>=0.10 in /usr/local/lib/python3.12/dist-packages (from matplotlib) (0.12.1)\n",
            "Requirement already satisfied: fonttools>=4.22.0 in /usr/local/lib/python3.12/dist-packages (from matplotlib) (4.59.2)\n",
            "Requirement already satisfied: kiwisolver>=1.3.1 in /usr/local/lib/python3.12/dist-packages (from matplotlib) (1.4.9)\n",
            "Requirement already satisfied: packaging>=20.0 in /usr/local/lib/python3.12/dist-packages (from matplotlib) (25.0)\n",
            "Requirement already satisfied: pillow>=8 in /usr/local/lib/python3.12/dist-packages (from matplotlib) (11.3.0)\n",
            "Requirement already satisfied: pyparsing>=2.3.1 in /usr/local/lib/python3.12/dist-packages (from matplotlib) (3.2.3)\n",
            "Requirement already satisfied: nvidia-nccl-cu12 in /usr/local/lib/python3.12/dist-packages (from xgboost) (2.27.3)\n",
            "Requirement already satisfied: six>=1.5 in /usr/local/lib/python3.12/dist-packages (from python-dateutil>=2.8.2->pandas) (1.17.0)\n",
            "Original dataset shape: Counter({0: 792, 1: 141})\n",
            "Resampled dataset shape (SMOTE + noise): Counter({1: 792, 0: 792})\n"
          ]
        },
        {
          "output_type": "stream",
          "name": "stderr",
          "text": [
            "/usr/local/lib/python3.12/dist-packages/xgboost/training.py:183: UserWarning: [17:45:37] WARNING: /workspace/src/learner.cc:738: \n",
            "Parameters: { \"use_label_encoder\" } are not used.\n",
            "\n",
            "  bst.update(dtrain, iteration=i, fobj=obj)\n"
          ]
        },
        {
          "output_type": "stream",
          "name": "stdout",
          "text": [
            "\n",
            "Accuracy: 0.7626050420168067\n",
            "Balanced Accuracy: 0.7626050420168067\n",
            "F1 Score: 0.7640918580375783\n",
            "Cohen's Kappa: 0.5252100840336135\n",
            "Mean Absolute Error: 0.23739495798319327\n",
            "\n",
            "Classification Report:\n",
            "               precision    recall  f1-score   support\n",
            "\n",
            "           0       0.77      0.76      0.76       238\n",
            "           1       0.76      0.77      0.76       238\n",
            "\n",
            "    accuracy                           0.76       476\n",
            "   macro avg       0.76      0.76      0.76       476\n",
            "weighted avg       0.76      0.76      0.76       476\n",
            "\n",
            "\n",
            "Confusion Matrix:\n",
            " [[180  58]\n",
            " [ 55 183]]\n"
          ]
        },
        {
          "output_type": "display_data",
          "data": {
            "text/plain": [
              "<Figure size 500x400 with 1 Axes>"
            ],
            "image/png": "[encoded data removed]"
          },
          "metadata": {}
        },
        {
          "output_type": "stream",
          "name": "stdout",
          "text": [
            "ROC AUC: 0.8502930583998305\n"
          ]
        },
        {
          "output_type": "display_data",
          "data": {
            "text/plain": [
              "<Figure size 600x500 with 1 Axes>"
            ],
            "image/png": "[encoded data removed]"
          },
          "metadata": {}
        }
      ],
      "source": [
        "!pip install imbalanced-learn scikit-learn numpy pandas matplotlib seaborn xgboost\n",
        "\n",
        "import pandas as pd\n",
        "import numpy as np\n",
        "from collections import Counter\n",
        "from sklearn.model_selection import train_test_split\n",
        "from sklearn.preprocessing import StandardScaler\n",
        "from sklearn.discriminant_analysis import QuadraticDiscriminantAnalysis\n",
        "from sklearn.metrics import (\n",
        "    accuracy_score, balanced_accuracy_score, f1_score, cohen_kappa_score,\n",
        "    mean_absolute_error, classification_report, confusion_matrix,\n",
        "    roc_auc_score, roc_curve\n",
        ")\n",
        "from imblearn.over_sampling import SMOTE\n",
        "import matplotlib.pyplot as plt\n",
        "import seaborn as sns\n",
        "from xgboost import XGBClassifier # Import XGBClassifier\n",
        "\n",
        "\n",
        "df = pd.read_csv(\"/content/MACCS2_Trainset_top20.csv\")\n",
        "\n",
        "\n",
        "X = df.drop([\"BioactivityClass\"], axis=1)\n",
        "y = df[\"BioactivityClass\"]\n",
        "\n",
        "print(\"Original dataset shape:\", Counter(y))\n",
        "\n",
        "smote = SMOTE(random_state=42)\n",
        "X_smote, y_smote = smote.fit_resample(X, y)\n",
        "\n",
        "\n",
        "noise = np.random.normal(0, 0.01, X_smote.shape)\n",
        "X_smote_noisy = X_smote + noise\n",
        "\n",
        "print(\"Resampled dataset shape (SMOTE + noise):\", Counter(y_smote))\n",
        "\n",
        "\n",
        "X_train, X_test, y_train, y_test = train_test_split(\n",
        "    X_smote_noisy, y_smote, test_size=0.3, random_state=42, stratify=y_smote\n",
        ")\n",
        "\n",
        "\n",
        "scaler = StandardScaler()\n",
        "X_train_scaled = scaler.fit_transform(X_train)\n",
        "X_test_scaled = scaler.transform(X_test)\n",
        "\n",
        "\n",
        "xgb_model = XGBClassifier(\n",
        "    random_state=42,\n",
        "    use_label_encoder=False,\n",
        "    eval_metric='logloss'\n",
        ")\n",
        "xgb_model.fit(X_train_scaled, y_train)\n",
        "\n",
        "\n",
        "y_pred = xgb_model.predict(X_test_scaled)\n",
        "y_proba = xgb_model.predict_proba(X_test_scaled)[:, 1] if len(xgb_model.classes_) == 2 else None\n",
        "\n",
        "print(\"\\nAccuracy:\", accuracy_score(y_test, y_pred))\n",
        "print(\"Balanced Accuracy:\", balanced_accuracy_score(y_test, y_pred))\n",
        "print(\"F1 Score:\", f1_score(y_test, y_pred))\n",
        "print(\"Cohen's Kappa:\", cohen_kappa_score(y_test, y_pred))\n",
        "print(\"Mean Absolute Error:\", mean_absolute_error(y_test, y_pred))\n",
        "print(\"\\nClassification Report:\\n\", classification_report(y_test, y_pred))\n",
        "\n",
        "\n",
        "cm = confusion_matrix(y_test, y_pred)\n",
        "print(\"\\nConfusion Matrix:\\n\", cm)\n",
        "\n",
        "plt.figure(figsize=(5, 4))\n",
        "sns.heatmap(cm, annot=True, fmt=\"d\", cmap=\"Blues\", cbar=False)\n",
        "plt.xlabel(\"Predicted\")\n",
        "plt.ylabel(\"Actual\")\n",
        "plt.title(\"Confusion Matrix - XGBoost (SMOTE + Noise)\")\n",
        "plt.show()\n",
        "\n",
        "\n",
        "if y_proba is not None:\n",
        "    roc_auc = roc_auc_score(y_test, y_proba)\n",
        "    print(\"ROC AUC:\", roc_auc)\n",
        "\n",
        "    fpr, tpr, _ = roc_curve(y_test, y_proba)\n",
        "    plt.figure(figsize=(6, 5))\n",
        "    plt.plot(fpr, tpr, label=f'AUC = {roc_auc:.2f}', color='darkorange', lw=2)\n",
        "    plt.plot([0, 1], [0, 1], color='navy', linestyle='--', lw=2)\n",
        "    plt.xlabel(\"False Positive Rate\")\n",
        "    plt.ylabel(\"True Positive Rate\")\n",
        "    plt.title(\"ROC Curve - XGBoost (SMOTE + Noise)\")\n",
        "    plt.legend(loc=\"lower right\")\n",
        "    plt.show()"
      ]
    },
    {
      "cell_type": "code",
      "source": [
        "from sklearn.model_selection import cross_val_score\n",
        "from sklearn.model_selection import StratifiedKFold\n",
        "\n",
        "skf = StratifiedKFold(n_splits=10, shuffle=True, random_state=42)\n",
        "cv_scores = cross_val_score(xgb_model, X_smote_noisy, y_smote, cv=skf, scoring='accuracy')\n",
        "\n",
        "print(f\"Stratified K-Fold Accuracy: {cv_scores}\")\n",
        "print(f\"Mean Accuracy: {np.mean(cv_scores)} ± {np.std(cv_scores)}\")"
      ],
      "metadata": {
        "colab": {
          "base_uri": "https://localhost:8080/"
        },
        "id": "duR74bIGUD0R",
        "outputId": "780e6007-0d28-4ff2-e489-72c40160dcd8"
      },
      "execution_count": 2,
      "outputs": [
        {
          "output_type": "stream",
          "name": "stderr",
          "text": [
            "/usr/local/lib/python3.12/dist-packages/xgboost/training.py:183: UserWarning: [17:45:53] WARNING: /workspace/src/learner.cc:738: \n",
            "Parameters: { \"use_label_encoder\" } are not used.\n",
            "\n",
            "  bst.update(dtrain, iteration=i, fobj=obj)\n",
            "/usr/local/lib/python3.12/dist-packages/xgboost/training.py:183: UserWarning: [17:45:53] WARNING: /workspace/src/learner.cc:738: \n",
            "Parameters: { \"use_label_encoder\" } are not used.\n",
            "\n",
            "  bst.update(dtrain, iteration=i, fobj=obj)\n",
            "/usr/local/lib/python3.12/dist-packages/xgboost/training.py:183: UserWarning: [17:45:54] WARNING: /workspace/src/learner.cc:738: \n",
            "Parameters: { \"use_label_encoder\" } are not used.\n",
            "\n",
            "  bst.update(dtrain, iteration=i, fobj=obj)\n",
            "/usr/local/lib/python3.12/dist-packages/xgboost/training.py:183: UserWarning: [17:45:54] WARNING: /workspace/src/learner.cc:738: \n",
            "Parameters: { \"use_label_encoder\" } are not used.\n",
            "\n",
            "  bst.update(dtrain, iteration=i, fobj=obj)\n",
            "/usr/local/lib/python3.12/dist-packages/xgboost/training.py:183: UserWarning: [17:45:54] WARNING: /workspace/src/learner.cc:738: \n",
            "Parameters: { \"use_label_encoder\" } are not used.\n",
            "\n",
            "  bst.update(dtrain, iteration=i, fobj=obj)\n",
            "/usr/local/lib/python3.12/dist-packages/xgboost/training.py:183: UserWarning: [17:45:55] WARNING: /workspace/src/learner.cc:738: \n",
            "Parameters: { \"use_label_encoder\" } are not used.\n",
            "\n",
            "  bst.update(dtrain, iteration=i, fobj=obj)\n",
            "/usr/local/lib/python3.12/dist-packages/xgboost/training.py:183: UserWarning: [17:45:55] WARNING: /workspace/src/learner.cc:738: \n",
            "Parameters: { \"use_label_encoder\" } are not used.\n",
            "\n",
            "  bst.update(dtrain, iteration=i, fobj=obj)\n",
            "/usr/local/lib/python3.12/dist-packages/xgboost/training.py:183: UserWarning: [17:45:55] WARNING: /workspace/src/learner.cc:738: \n",
            "Parameters: { \"use_label_encoder\" } are not used.\n",
            "\n",
            "  bst.update(dtrain, iteration=i, fobj=obj)\n",
            "/usr/local/lib/python3.12/dist-packages/xgboost/training.py:183: UserWarning: [17:45:56] WARNING: /workspace/src/learner.cc:738: \n",
            "Parameters: { \"use_label_encoder\" } are not used.\n",
            "\n",
            "  bst.update(dtrain, iteration=i, fobj=obj)\n",
            "/usr/local/lib/python3.12/dist-packages/xgboost/training.py:183: UserWarning: [17:45:56] WARNING: /workspace/src/learner.cc:738: \n",
            "Parameters: { \"use_label_encoder\" } are not used.\n",
            "\n",
            "  bst.update(dtrain, iteration=i, fobj=obj)\n"
          ]
        },
        {
          "output_type": "stream",
          "name": "stdout",
          "text": [
            "Stratified K-Fold Accuracy: [0.78616352 0.74842767 0.7672956  0.75471698 0.76582278 0.77848101\n",
            " 0.73417722 0.82278481 0.69620253 0.75949367]\n",
            "Mean Accuracy: 0.7613565798901363 ± 0.03152103450991202\n"
          ]
        }
      ]
    },
    {
      "cell_type": "markdown",
      "source": [
        "Loading the build model and screening unknown dataset"
      ],
      "metadata": {
        "id": "Gw8eoNP6vDt0"
      }
    },
    {
      "cell_type": "code",
      "source": [
        "import pickle\n",
        "\n",
        "# Save model\n",
        "with open(\"xgb_model.pkl\", \"wb\") as model_file:\n",
        "    pickle.dump(xgb_model, model_file)\n",
        "\n",
        "# Load model\n",
        "with open(\"xgb_model.pkl\", \"rb\") as model_file:\n",
        "    loaded_model = pickle.load(model_file)\n",
        "\n",
        "# Test loaded model\n",
        "y_pred_loaded = loaded_model.predict(X_test_scaled)\n",
        "print(f\"Loaded Model Accuracy: {accuracy_score(y_test, y_pred_loaded)}\")"
      ],
      "metadata": {
        "colab": {
          "base_uri": "https://localhost:8080/"
        },
        "id": "HKnUVCAdT282",
        "outputId": "46abda9c-a45a-4d72-e908-04645c42d345"
      },
      "execution_count": 3,
      "outputs": [
        {
          "output_type": "stream",
          "name": "stdout",
          "text": [
            "Loaded Model Accuracy: 0.7626050420168067\n"
          ]
        }
      ]
    },
    {
      "cell_type": "code",
      "source": [
        "import pandas as pd\n",
        "\n",
        "# Load unknown data\n",
        "unknown_df = pd.read_csv(\"/content/MACCS_with_SMILES_merged_96235_top20_csv.csv\")"
      ],
      "metadata": {
        "id": "SG2cRSuHUQMS"
      },
      "execution_count": 4,
      "outputs": []
    },
    {
      "cell_type": "code",
      "source": [
        "# Get the feature names used during training\n",
        "training_features = X.columns\n",
        "\n",
        "# Select only the necessary columns from unknown_df, and reorder them\n",
        "unknown_df = unknown_df.reindex(columns=training_features)"
      ],
      "metadata": {
        "id": "MuYnZCDLUY-2"
      },
      "execution_count": 5,
      "outputs": []
    },
    {
      "cell_type": "code",
      "source": [
        "\n",
        "# Fill any potential NaN values with 0 (or another appropriate imputation strategy)\n",
        "unknown_df = unknown_df.fillna(0)\n",
        "\n",
        "# Scale the unknown data using the same scaler fitted on the training data\n",
        "unknown_df_scaled = scaler.transform(unknown_df)\n",
        "\n",
        "# Predict class labels\n",
        "predictions = loaded_model.predict(unknown_df_scaled)\n",
        "\n",
        "# Predict probabilities (if needed)\n",
        "probabilities = loaded_model.predict_proba(unknown_df_scaled)\n",
        "\n",
        "original_unknown_df = pd.read_csv(\"/content/MACCS_with_SMILES_merged_96235_top20_csv.csv\")\n",
        "SMILES = original_unknown_df[\"SMILES\"]\n",
        "\n",
        "# Convert predictions to a DataFrame\n",
        "predictions_df = pd.DataFrame({\n",
        "    \"SMILES\": SMILES,\n",
        "    \"Predicted_Class\": predictions,\n",
        "    \"Probability_Class_0\": probabilities[:, 0],  # Probability of class 0\n",
        "    \"Probability_Class_1\": probabilities[:, 1]   # Probability of class 1\n",
        "})\n",
        "\n",
        "# Save predictions\n",
        "predictions_df.to_csv(\"Unknown_predictions_XGB_smote+gnoise.csv\", index=False)\n",
        "print(\"Predictions saved to Unknown_predictions_XGB_smote+gnoise.csv\")"
      ],
      "metadata": {
        "colab": {
          "base_uri": "https://localhost:8080/"
        },
        "id": "wEuEFF-vUcGC",
        "outputId": "bf75db49-ffb4-4f22-d155-a37ddb90d87b"
      },
      "execution_count": 6,
      "outputs": [
        {
          "output_type": "stream",
          "name": "stdout",
          "text": [
            "Predictions saved to Unknown_predictions_XGB_smote+gnoise.csv\n"
          ]
        }
      ]
    }
  ]
}