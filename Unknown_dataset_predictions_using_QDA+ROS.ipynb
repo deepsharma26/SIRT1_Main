{
  "nbformat": 4,
  "nbformat_minor": 0,
  "metadata": {
    "colab": {
      "provenance": [],
      "include_colab_link": true
    },
    "kernelspec": {
      "name": "python3",
      "display_name": "Python 3"
    },
    "language_info": {
      "name": "python"
    }
  },
  "cells": [
    {
      "cell_type": "markdown",
      "metadata": {
        "id": "view-in-github",
        "colab_type": "text"
      },
      "source": [
        "<a href=\"https://colab.research.google.com/github/deepsharma26/SIRT1_Main/blob/Unknown_dataset_predictions/Unknown_dataset_predictions_using_QDA%2BROS.ipynb\" target=\"_parent\"><img src=\"https://colab.research.google.com/assets/colab-badge.svg\" alt=\"Open In Colab\"/></a>"
      ]
    },
    {
      "cell_type": "markdown",
      "source": [
        "#Prediction of unknown dataset (NPASS-96235 compounds)"
      ],
      "metadata": {
        "id": "eKJ1MDRUv9YS"
      }
    },
    {
      "cell_type": "markdown",
      "source": [
        "Rebuilding the previous model (QDA + ROS) for loading into pickle module"
      ],
      "metadata": {
        "id": "f6a4Iru5wK6h"
      }
    },
    {
      "cell_type": "code",
      "execution_count": 1,
      "metadata": {
        "id": "igkhMHUBA_EJ"
      },
      "outputs": [],
      "source": [
        "\n",
        "from sklearn.model_selection import train_test_split\n",
        "import matplotlib.pyplot as plt\n",
        "import seaborn as sns\n",
        "import numpy as np\n",
        "import random\n",
        "import pandas as pd\n",
        "from sklearn.preprocessing import StandardScaler\n",
        "from sklearn.discriminant_analysis import QuadraticDiscriminantAnalysis\n",
        "from sklearn.metrics import (\n",
        "    accuracy_score, balanced_accuracy_score, f1_score, cohen_kappa_score,\n",
        "    mean_absolute_error, classification_report, confusion_matrix,\n",
        "    roc_auc_score, roc_curve\n",
        ")\n",
        "from imblearn.over_sampling import SMOTE\n",
        "import matplotlib.pyplot as plt\n",
        "import seaborn as sns\n",
        "import numpy as np\n",
        "from collections import Counter\n",
        "from imblearn.over_sampling import SMOTE, RandomOverSampler"
      ]
    },
    {
      "cell_type": "code",
      "source": [
        "df = pd.read_csv(\"/content/MACCS2_Trainset_top20.csv\")\n",
        "X = df.drop(\"BioactivityClass\", axis=1)\n",
        "y = df[\"BioactivityClass\"]\n",
        "\n",
        "print(\"Original dataset shape:\", Counter(y))\n",
        "\n",
        "ros = RandomOverSampler(shrinkage=0.1, random_state=42)\n",
        "X_ros, y_ros = ros.fit_resample(X, y)\n",
        "print(\"\\nResampled shape (ROSE-style):\", Counter(y_ros))\n",
        "\n",
        "X_train, X_test, y_train, y_test = train_test_split(\n",
        "    X_ros, y_ros, test_size=0.3, random_state=42, stratify=y_ros\n",
        ")\n",
        "\n",
        "\n",
        "scaler = StandardScaler()\n",
        "X_train_scaled = scaler.fit_transform(X_train)\n",
        "X_test_scaled = scaler.transform(X_test)\n",
        "\n",
        "\n",
        "qda = QuadraticDiscriminantAnalysis()\n",
        "qda.fit(X_train_scaled, y_train)\n",
        "\n",
        "\n",
        "y_pred = qda.predict(X_test_scaled)\n",
        "y_proba = qda.predict_proba(X_test_scaled)[:, 1] if len(qda.classes_) == 2 else None\n",
        "\n",
        "\n",
        "print(\"\\nAccuracy:\", accuracy_score(y_test, y_pred))\n",
        "print(\"Balanced Accuracy:\", balanced_accuracy_score(y_test, y_pred))\n",
        "print(\"F1 Score:\", f1_score(y_test, y_pred))\n",
        "print(\"Cohen's Kappa:\", cohen_kappa_score(y_test, y_pred))\n",
        "print(\"Mean Absolute Error:\", mean_absolute_error(y_test, y_pred))\n",
        "print(\"\\nClassification Report:\\n\", classification_report(y_test, y_pred))\n",
        "\n",
        "cm = confusion_matrix(y_test, y_pred)\n",
        "print(\"\\nConfusion Matrix:\\n\", cm)\n",
        "\n",
        "plt.figure(figsize=(5, 4))\n",
        "sns.heatmap(cm, annot=True, fmt=\"d\", cmap=\"Blues\", cbar=False)\n",
        "plt.xlabel(\"Predicted\")\n",
        "plt.ylabel(\"Actual\")\n",
        "plt.title(\"Confusion Matrix - QDA (RandomOverSampler)\")\n",
        "plt.show()\n",
        "\n",
        "\n",
        "\n",
        "if y_proba is not None:\n",
        "    roc_auc = roc_auc_score(y_test, y_proba)\n",
        "    print(\"ROC AUC:\", roc_auc)\n",
        "\n",
        "    fpr, tpr, _ = roc_curve(y_test, y_proba)\n",
        "    plt.figure(figsize=(6, 5))\n",
        "    plt.plot(fpr, tpr, label=f'AUC = {roc_auc:.2f}', color='darkorange', lw=2)\n",
        "    plt.plot([0, 1], [0, 1], color='navy', linestyle='--', lw=2)\n",
        "    plt.xlabel(\"False Positive Rate\")\n",
        "    plt.ylabel(\"True Positive Rate\")\n",
        "    plt.title(\"ROC Curve - QDA (RandomOverSampler)\")\n",
        "    plt.legend(loc=\"lower right\")\n",
        "    plt.show()"
      ],
      "metadata": {
        "colab": {
          "base_uri": "https://localhost:8080/",
          "height": 1000
        },
        "id": "iRj6CkHnC1Qr",
        "outputId": "a2b7ebec-132a-4a4a-c905-d3fb06e461d3"
      },
      "execution_count": 2,
      "outputs": [
        {
          "output_type": "stream",
          "name": "stdout",
          "text": [
            "Original dataset shape: Counter({0: 792, 1: 141})\n",
            "\n",
            "Resampled shape (ROSE-style): Counter({1: 792, 0: 792})\n",
            "\n",
            "Accuracy: 0.8109243697478992\n",
            "Balanced Accuracy: 0.8109243697478992\n",
            "F1 Score: 0.7991071428571429\n",
            "Cohen's Kappa: 0.6218487394957983\n",
            "Mean Absolute Error: 0.18907563025210083\n",
            "\n",
            "Classification Report:\n",
            "               precision    recall  f1-score   support\n",
            "\n",
            "           0       0.78      0.87      0.82       238\n",
            "           1       0.85      0.75      0.80       238\n",
            "\n",
            "    accuracy                           0.81       476\n",
            "   macro avg       0.82      0.81      0.81       476\n",
            "weighted avg       0.82      0.81      0.81       476\n",
            "\n",
            "\n",
            "Confusion Matrix:\n",
            " [[207  31]\n",
            " [ 59 179]]\n"
          ]
        },
        {
          "output_type": "display_data",
          "data": {
            "text/plain": [
              "<Figure size 500x400 with 1 Axes>"
            ],
            "image/png": "[encoded data removed]"
          },
          "metadata": {}
        },
        {
          "output_type": "stream",
          "name": "stdout",
          "text": [
            "ROC AUC: 0.9150307181696207\n"
          ]
        },
        {
          "output_type": "display_data",
          "data": {
            "text/plain": [
              "<Figure size 600x500 with 1 Axes>"
            ],
            "image/png": "[encoded data removed]"
          },
          "metadata": {}
        }
      ]
    },
    {
      "cell_type": "code",
      "source": [
        "from sklearn.model_selection import cross_val_score\n",
        "from sklearn.model_selection import StratifiedKFold\n",
        "\n",
        "skf = StratifiedKFold(n_splits=10, shuffle=True, random_state=42)\n",
        "cv_scores = cross_val_score(qda, X_ros, y_ros, cv=skf, scoring='accuracy')\n",
        "\n",
        "print(f\"Stratified K-Fold Accuracy: {cv_scores}\")\n",
        "print(f\"Mean Accuracy: {np.mean(cv_scores)} ± {np.std(cv_scores)}\")"
      ],
      "metadata": {
        "colab": {
          "base_uri": "https://localhost:8080/"
        },
        "id": "GLydHOeyESvs",
        "outputId": "db01b72a-6f33-4e6d-ce64-4ec6001b0eaa"
      },
      "execution_count": 3,
      "outputs": [
        {
          "output_type": "stream",
          "name": "stdout",
          "text": [
            "Stratified K-Fold Accuracy: [0.82389937 0.81761006 0.79874214 0.82389937 0.87341772 0.84177215\n",
            " 0.80379747 0.84177215 0.82278481 0.79746835]\n",
            "Mean Accuracy: 0.8245163601624075 ± 0.022053348950004645\n"
          ]
        }
      ]
    },
    {
      "cell_type": "markdown",
      "source": [
        "Loading the buid model"
      ],
      "metadata": {
        "id": "uUQICMKewaa5"
      }
    },
    {
      "cell_type": "code",
      "source": [
        "import pickle\n",
        "\n",
        "# Save model\n",
        "with open(\"ros_model.pkl\", \"wb\") as model_file:\n",
        "    pickle.dump(qda, model_file)\n",
        "\n",
        "# Load model\n",
        "with open(\"ros_model.pkl\", \"rb\") as model_file:\n",
        "    loaded_model = pickle.load(model_file)\n",
        "\n",
        "# Test loaded model\n",
        "y_pred_loaded = loaded_model.predict(X_test_scaled)\n",
        "print(f\"Loaded Model Accuracy: {accuracy_score(y_test, y_pred_loaded)}\")"
      ],
      "metadata": {
        "colab": {
          "base_uri": "https://localhost:8080/"
        },
        "id": "x-6x_kjCEbDa",
        "outputId": "182ff1d4-d92c-4f32-cc88-6a50b1628d94"
      },
      "execution_count": 4,
      "outputs": [
        {
          "output_type": "stream",
          "name": "stdout",
          "text": [
            "Loaded Model Accuracy: 0.8109243697478992\n"
          ]
        }
      ]
    },
    {
      "cell_type": "markdown",
      "source": [
        "Loading unkown dataset and screening using QDA + ROS"
      ],
      "metadata": {
        "id": "k030y6-zwdwA"
      }
    },
    {
      "cell_type": "code",
      "source": [
        "import pandas as pd\n",
        "\n",
        "# Load unknown data\n",
        "unknown_df = pd.read_csv(\"/content/MACCS_with_SMILES_merged_96235_top20_csv.csv\")"
      ],
      "metadata": {
        "id": "I7lmCN0lEmvD"
      },
      "execution_count": 7,
      "outputs": []
    },
    {
      "cell_type": "code",
      "source": [
        "# Get the feature names used during training\n",
        "training_features = X.columns\n",
        "\n",
        "# Select only the necessary columns from unknown_df, and reorder them\n",
        "unknown_df = unknown_df.reindex(columns=training_features)\n"
      ],
      "metadata": {
        "id": "alfHJLJWEqg_"
      },
      "execution_count": 8,
      "outputs": []
    },
    {
      "cell_type": "code",
      "source": [
        "# Fill any potential NaN values with 0 (or another appropriate imputation strategy)\n",
        "unknown_df = unknown_df.fillna(0)\n",
        "\n",
        "# Scale the unknown data using the same scaler fitted on the training data\n",
        "unknown_df_scaled = scaler.transform(unknown_df)\n",
        "\n",
        "# Predict class labels\n",
        "predictions = loaded_model.predict(unknown_df_scaled)\n",
        "\n",
        "# Predict probabilities (if needed)\n",
        "probabilities = loaded_model.predict_proba(unknown_df_scaled)\n",
        "\n",
        "original_unknown_df = pd.read_csv(\"/content/MACCS_with_SMILES_merged_96235_top20_csv.csv\")\n",
        "SMILES = original_unknown_df[\"SMILES\"]\n",
        "\n",
        "# Convert predictions to a DataFrame\n",
        "predictions_df = pd.DataFrame({\n",
        "    \"SMILES\": SMILES,\n",
        "    \"Predicted_Class\": predictions,\n",
        "    \"Probability_Class_0\": probabilities[:, 0],  # Probability of class 0\n",
        "    \"Probability_Class_1\": probabilities[:, 1]   # Probability of class 1\n",
        "})\n",
        "\n",
        "# Save predictions\n",
        "predictions_df.to_csv(\"Unknown_predictions_QDA+ROS.csv\", index=False)\n",
        "print(\"Predictions saved to Unknown_predictions_QDA+ROS.csv\")\n"
      ],
      "metadata": {
        "colab": {
          "base_uri": "https://localhost:8080/"
        },
        "id": "taABdIXZExB0",
        "outputId": "b676d453-ab33-472b-b112-38626286faf1"
      },
      "execution_count": 11,
      "outputs": [
        {
          "output_type": "stream",
          "name": "stdout",
          "text": [
            "Predictions saved to Unknown_predictions_QDA+ROS.csv\n"
          ]
        }
      ]
    }
  ]
}